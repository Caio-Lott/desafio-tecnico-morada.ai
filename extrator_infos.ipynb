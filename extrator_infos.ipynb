{
 "cells": [
  {
   "cell_type": "code",
   "execution_count": 4,
   "metadata": {},
   "outputs": [],
   "source": [
    "import os\n",
    "import time\n",
    "import json\n",
    "import re\n",
    "from dotenv import load_dotenv\n",
    "import pandas as pd\n",
    "import google.generativeai as genai"
   ]
  },
  {
   "cell_type": "markdown",
   "metadata": {},
   "source": [
    "### **Carrega as variáveis de ambiente**"
   ]
  },
  {
   "cell_type": "code",
   "execution_count": 5,
   "metadata": {},
   "outputs": [
    {
     "data": {
      "text/plain": [
       "True"
      ]
     },
     "execution_count": 5,
     "metadata": {},
     "output_type": "execute_result"
    }
   ],
   "source": [
    "load_dotenv()"
   ]
  },
  {
   "cell_type": "markdown",
   "metadata": {},
   "source": [
    "### **Configura e inicializa o modelo**"
   ]
  },
  {
   "cell_type": "code",
   "execution_count": 6,
   "metadata": {},
   "outputs": [],
   "source": [
    "genai.configure(api_key=os.getenv(\"GEMINI_API_KEY\"))\n",
    "model = genai.GenerativeModel('gemini-2.0-flash')"
   ]
  },
  {
   "cell_type": "markdown",
   "metadata": {},
   "source": [
    "### **Carrega os arquivos de entrada**"
   ]
  },
  {
   "cell_type": "code",
   "execution_count": 7,
   "metadata": {},
   "outputs": [],
   "source": [
    "input_path = 'data/conversas_leads.csv'\n",
    "input = pd.read_csv(input_path)"
   ]
  },
  {
   "cell_type": "markdown",
   "metadata": {},
   "source": [
    "### **Extrai as informações da entrada**"
   ]
  },
  {
   "cell_type": "code",
   "execution_count": null,
   "metadata": {},
   "outputs": [],
   "source": [
    "def extrair_informacoes(conversa):\n",
    "    prompt = f\"\"\"\n",
    "    Extraia as seguintes informações da conversa e retorne em formato JSON:\n",
    "\n",
    "    {{\n",
    "        \"nome\": \"Nome do Lead\",\n",
    "        \"email\": \"Email do Lead\",\n",
    "        \"telefone\": \"Telefone do Lead\",\n",
    "        \"cidade\": \"Cidade de interesse\",\n",
    "        \"regiao\": \"Região de interesse\",\n",
    "        \"tipo_imovel\": \"Tipo de imóvel (apartamento, casa, terreno, etc.)\",\n",
    "        \"quartos\": \"Número de quartos\",\n",
    "        \"orcamento\": \"Orçamento\",\n",
    "        \"caracteristicas\": \"Características adicionais (piscina, vaga de garagem, etc.)\",\n",
    "        \"disponibilidade\": \"Disponibilidade para visita\",\n",
    "        \"intencao\": \"Intenção (compra, aluguel, investimento, etc.)\"\n",
    "    }}\n",
    "\n",
    "    Conversa:\n",
    "    {conversa}\n",
    "\n",
    "    Informações extraídas:\n",
    "    \"\"\"\n",
    "    response = model.generate_content(prompt)\n",
    "    try:\n",
    "        # Adequa a resposta ao formato json\n",
    "        json_str = re.sub(r'```json\\n', '', response.text)\n",
    "        json_str = re.sub(r'\\n```', '', json_str)\n",
    "        # Decodifica o JSON\n",
    "        dados = json.loads(json_str)\n",
    "        return dados\n",
    "    except json.JSONDecodeError as e:\n",
    "        print(f\"Erro ao decodificar JSON: {response.text}\")\n",
    "        print(f\"Erro específico: {e}\")\n",
    "        return None"
   ]
  },
  {
   "cell_type": "markdown",
   "metadata": {},
   "source": [
    "### **Processa os dados de entrada**"
   ]
  },
  {
   "cell_type": "code",
   "execution_count": 9,
   "metadata": {},
   "outputs": [],
   "source": [
    "def processar_csv():\n",
    "    df = input\n",
    "    resultados = []\n",
    "    for index, row in df.iterrows():\n",
    "        conversa = row['conversa']\n",
    "        informacoes = extrair_informacoes(conversa)\n",
    "        if informacoes:\n",
    "            resultados.append(informacoes)\n",
    "        time.sleep(1)  # Atraso de 1 segundo entre as requisições\n",
    "    return resultados"
   ]
  },
  {
   "cell_type": "markdown",
   "metadata": {},
   "source": [
    "### **Salva o resultado na pasta de resultados**"
   ]
  },
  {
   "cell_type": "code",
   "execution_count": 10,
   "metadata": {},
   "outputs": [],
   "source": [
    "def salvar_resultados_json(resultados, caminho_json):\n",
    "    with open(caminho_json, 'w', encoding='utf-8') as f:\n",
    "        json.dump(resultados, f, ensure_ascii=False, indent=4)"
   ]
  },
  {
   "cell_type": "markdown",
   "metadata": {},
   "source": [
    "### **Executa o código**"
   ]
  },
  {
   "cell_type": "code",
   "execution_count": null,
   "metadata": {},
   "outputs": [],
   "source": [
    "resultados = processar_csv()"
   ]
  },
  {
   "cell_type": "code",
   "execution_count": null,
   "metadata": {},
   "outputs": [],
   "source": [
    "path_output = 'results/resultados.json'\n",
    "salvar_resultados_json(resultados, path_output)"
   ]
  }
 ],
 "metadata": {
  "kernelspec": {
   "display_name": "Python 3",
   "language": "python",
   "name": "python3"
  },
  "language_info": {
   "codemirror_mode": {
    "name": "ipython",
    "version": 3
   },
   "file_extension": ".py",
   "mimetype": "text/x-python",
   "name": "python",
   "nbconvert_exporter": "python",
   "pygments_lexer": "ipython3",
   "version": "3.11.9"
  }
 },
 "nbformat": 4,
 "nbformat_minor": 2
}
